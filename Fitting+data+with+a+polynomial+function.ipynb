{
 "cells": [
  {
   "cell_type": "markdown",
   "metadata": {},
   "source": [
    "## Fitting data with a polynomial function\n",
    "Here we explore how to fit data usingg a polynonial function, and extract errors in the estimated polynomial coefficients"
   ]
  },
  {
   "cell_type": "code",
   "execution_count": 33,
   "metadata": {
    "collapsed": true
   },
   "outputs": [],
   "source": [
    "# import libraries  \n",
    "import numpy as np  \n",
    "import matplotlib.pyplot as plt  \n",
    "%matplotlib inline"
   ]
  },
  {
   "cell_type": "code",
   "execution_count": 34,
   "metadata": {
    "collapsed": true
   },
   "outputs": [],
   "source": [
    "####################################  \n",
    "# user-modified area:  \n",
    "filename= 'testData2.csv'  \n",
    "xaxis_label = 'time (ms)'  \n",
    "yaxis_label = 'signal (uV)'  \n",
    "title = 'plot of my interesting data'  \n",
    "###################################  "
   ]
  },
  {
   "cell_type": "code",
   "execution_count": 35,
   "metadata": {
    "collapsed": true
   },
   "outputs": [],
   "source": [
    "# loading data:\n",
    "data = np.genfromtxt(filename,delimiter=',')  \n",
    "x_values = data[:,0]\n",
    "y_values = data[:,1]"
   ]
  },
  {
   "cell_type": "code",
   "execution_count": 36,
   "metadata": {
    "collapsed": false
   },
   "outputs": [
    {
     "name": "stdout",
     "output_type": "stream",
     "text": [
      "y = m*x + b , where: m =  0.317669420514 , b =  6.90387148175\n",
      "m error =  0.0153179412805\n",
      "b error =  0.139272577605\n"
     ]
    }
   ],
   "source": [
    "# fit a polynomial to the data, and estimate errors in coefficients based on covariance matrix\n",
    "  \n",
    "# reminder of the inputs for polyfit:  \n",
    "#numpy.polyfit(x, y, deg, rcond=None, full=False, w=None, cov=False)  \n",
    "  \n",
    "p,cov = np.polyfit(x_values, y_values, 1,cov=True)  \n",
    "polyfxn = p[0]*x_values+p[1]  \n",
    "print(\"y = m*x + b , where: m = \", p[0],\", b = \",p[1])\n",
    "  \n",
    "# calculate error on fit parameters: the covariance   \n",
    "# diagonal elements are what you want -- their sqrt makes it a standard deviation \n",
    "# http://stackoverflow.com/questions/27757732/find-uncertainty-from-polyfit  \n",
    "# print(np.sqrt(np.diag(cov)))\n",
    "print(\"m error = \",np.sqrt(np.diag(cov))[0]) \n",
    "print(\"b error = \",np.sqrt(np.diag(cov))[1])"
   ]
  },
  {
   "cell_type": "code",
   "execution_count": 37,
   "metadata": {
    "collapsed": false
   },
   "outputs": [
    {
     "data": {
      "text/plain": [
       "<matplotlib.legend.Legend at 0x7f0b080ddac8>"
      ]
     },
     "execution_count": 37,
     "metadata": {},
     "output_type": "execute_result"
    },
    {
     "data": {
      "image/png": "[encoded data removed]",
      "text/plain": [
       "<matplotlib.figure.Figure at 0x7f0b08143a20>"
      ]
     },
     "metadata": {},
     "output_type": "display_data"
    }
   ],
   "source": [
    "##############################  \n",
    "## plotting ##################  \n",
    "##############################  \n",
    "plt.figure(1)  \n",
    "plt.clf()  \n",
    "plt.plot(x_values,y_values,'.b',label='original fxn')  \n",
    "plt.plot(x_values,polyfxn,'.-r',label='poly fit fxn')  \n",
    "plt.xlabel(xaxis_label,fontsize=15)  \n",
    "plt.ylabel(yaxis_label,fontsize=15)  \n",
    "plt.grid()  \n",
    "plt.title(title,fontsize=20)  \n",
    "plt.legend(frameon=False,loc=2)   \n",
    "     \n",
    "# plt.savefig('polyfit data.png')  \n",
    "  \n",
    "# Info about legend:  \n",
    "#    http://matplotlib.org/api/legend_api.html  "
   ]
  },
  {
   "cell_type": "code",
   "execution_count": null,
   "metadata": {
    "collapsed": true
   },
   "outputs": [],
   "source": []
  },
  {
   "cell_type": "code",
   "execution_count": null,
   "metadata": {
    "collapsed": true
   },
   "outputs": [],
   "source": []
  }
 ],
 "metadata": {
  "kernelspec": {
   "display_name": "Python 3",
   "language": "python",
   "name": "python3"
  },
  "language_info": {
   "codemirror_mode": {
    "name": "ipython",
    "version": 3
   },
   "file_extension": ".py",
   "mimetype": "text/x-python",
   "name": "python",
   "nbconvert_exporter": "python",
   "pygments_lexer": "ipython3",
   "version": "3.6.0"
  }
 },
 "nbformat": 4,
 "nbformat_minor": 2
}
